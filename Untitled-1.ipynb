{
 "cells": [
  {
   "cell_type": "code",
   "execution_count": null,
   "metadata": {},
   "outputs": [],
   "source": [
    "<!DOCTYPE html>\n",
    "<html lang=\"en\">\n",
    "<head>\n",
    "    <meta charset=\"UTF-8\">\n",
    "    <meta name=\"viewport\" content=\"width=device-width, initial-scale=1.0\">\n",
    "    <title><3??</title>\n",
    "    <link rel=\"preconnect\" href=\"https://fonts.googleapis.com\">\n",
    "    <link rel=\"preconnect\" href=\"https://fonts.gstatic.com\" crossorigin>\n",
    "    <link href=\"https://fonts.googleapis.com/css2?family=Kalam&display=swap\" rel=\"stylesheet\">\n",
    "    <link rel=\"icon\" type=\"image/x-icon\" href=\"/assets/Heart_corazón.svg.png\">\n",
    "    <link rel=\"stylesheet\" href=\"style.css\">\n",
    "</head>\n",
    "<body>\n",
    "    <h1 class=\"question\">Will you be CEDRIC'S valentine?<3</h1>\n",
    "    <img src=\"/assets/heart.gif\" alt=\"\" width=\"300px\" height=\"300px\" class=\"giffy\">\n",
    "    <div class=\"buttons\">\n",
    "        <button class=\"button yes\" onclick=\"yes()\">Yes</button>\n",
    "        <button class=\"button no\" onclick=\"no()\">No</button>\n",
    "    </div>\n",
    "    <h1 class=\"text\">THANKYOU<3 </h1>\n",
    "    <script src=\"script.js\"></script>\n",
    "</body>\n",
    "</html>"
   ]
  }
 ],
 "metadata": {
  "language_info": {
   "name": "python"
  }
 },
 "nbformat": 4,
 "nbformat_minor": 2
}
